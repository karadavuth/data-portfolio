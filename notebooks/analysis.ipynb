{
 "cells": [
  {
   "cell_type": "code",
   "execution_count": null,
   "id": "84baf10c",
   "metadata": {
    "vscode": {
     "languageId": "plaintext"
    }
   },
   "outputs": [],
   "source": [
    "# Cel 1: Imports en setup\n",
    "import pandas as pd\n",
    "import matplotlib.pyplot as plt\n",
    "import os\n",
    "\n",
    "print(\"📊 Nederlandse Energiedata Analyse\")\n",
    "print(\"=\"*40)\n",
    "\n",
    "# Zoek naar data bestanden\n",
    "data_dir = \"../data/raw/\"\n",
    "if os.path.exists(data_dir):\n",
    "    files = [f for f in os.listdir(data_dir) if f.endswith('.csv')]\n",
    "    print(f\"Gevonden bestanden: {files}\")\n",
    "else:\n",
    "    print(\"Geen data directory gevonden\")"
   ]
  },
  {
   "cell_type": "code",
   "execution_count": null,
   "id": "9900350f",
   "metadata": {
    "vscode": {
     "languageId": "plaintext"
    }
   },
   "outputs": [],
   "source": [
    "# Cel 2: Maak voorbeeld data\n",
    "jaren = list(range(2020, 2025))\n",
    "elektriciteit = [0.24, 0.26, 0.40, 0.36, 0.30]\n",
    "gas = [0.80, 0.85, 1.50, 1.20, 1.00]\n",
    "\n",
    "df = pd.DataFrame({\n",
    "    'Jaar': jaren,\n",
    "    'Elektriciteit_prijs': elektriciteit,\n",
    "    'Gas_prijs': gas\n",
    "})\n",
    "\n",
    "print(\"📋 Voorbeeld data:\")\n",
    "df"
   ]
  },
  {
   "cell_type": "code",
   "execution_count": null,
   "id": "39a26ff9",
   "metadata": {
    "vscode": {
     "languageId": "plaintext"
    }
   },
   "outputs": [],
   "source": [
    "# Cel 3: Visualisatie\n",
    "plt.figure(figsize=(10, 6))\n",
    "plt.plot(df['Jaar'], df['Elektriciteit_prijs'], marker='o', label='Elektriciteit (€/kWh)', linewidth=2)\n",
    "plt.plot(df['Jaar'], df['Gas_prijs'], marker='s', label='Gas (€/m³)', linewidth=2)\n",
    "plt.title('Nederlandse Energieprijzen Ontwikkeling', fontsize=16)\n",
    "plt.xlabel('Jaar')\n",
    "plt.ylabel('Prijs (€)')\n",
    "plt.legend()\n",
    "plt.grid(True, alpha=0.3)\n",
    "plt.tight_layout()\n",
    "plt.show()\n",
    "\n",
    "print(\"✅ Visualisatie gemaakt!\")"
   ]
  }
 ],
 "metadata": {
  "language_info": {
   "name": "python"
  }
 },
 "nbformat": 4,
 "nbformat_minor": 5
}
